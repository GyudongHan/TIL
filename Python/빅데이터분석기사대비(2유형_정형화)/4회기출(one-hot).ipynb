{
 "cells": [
  {
   "cell_type": "code",
   "execution_count": 1,
   "id": "66cdc39e-29a1-47e1-9deb-97591dc7c884",
   "metadata": {},
   "outputs": [],
   "source": [
    "import pandas as pd\n",
    "import numpy as np\n",
    "\n",
    "train = pd.read_csv(\"train.csv\")\n",
    "test = pd.read_csv(\"test.csv\")"
   ]
  },
  {
   "cell_type": "code",
   "execution_count": 2,
   "id": "4f2c7ec2-772d-45bd-8357-5cada32926f6",
   "metadata": {},
   "outputs": [
    {
     "name": "stdout",
     "output_type": "stream",
     "text": [
      "<class 'pandas.core.frame.DataFrame'>\n",
      "RangeIndex: 6665 entries, 0 to 6664\n",
      "Data columns (total 11 columns):\n",
      " #   Column           Non-Null Count  Dtype  \n",
      "---  ------           --------------  -----  \n",
      " 0   ID               6665 non-null   int64  \n",
      " 1   Gender           6665 non-null   object \n",
      " 2   Ever_Married     6665 non-null   object \n",
      " 3   Age              6665 non-null   int64  \n",
      " 4   Graduated        6665 non-null   object \n",
      " 5   Profession       6665 non-null   object \n",
      " 6   Work_Experience  6665 non-null   float64\n",
      " 7   Spending_Score   6665 non-null   object \n",
      " 8   Family_Size      6665 non-null   float64\n",
      " 9   Var_1            6665 non-null   object \n",
      " 10  Segmentation     6665 non-null   int64  \n",
      "dtypes: float64(2), int64(3), object(6)\n",
      "memory usage: 572.9+ KB\n"
     ]
    }
   ],
   "source": [
    "train.info()"
   ]
  },
  {
   "cell_type": "code",
   "execution_count": 3,
   "id": "16090209-4eca-4888-b276-8b20a94d6272",
   "metadata": {},
   "outputs": [
    {
     "name": "stdout",
     "output_type": "stream",
     "text": [
      "<class 'pandas.core.frame.DataFrame'>\n",
      "RangeIndex: 2154 entries, 0 to 2153\n",
      "Data columns (total 10 columns):\n",
      " #   Column           Non-Null Count  Dtype  \n",
      "---  ------           --------------  -----  \n",
      " 0   ID               2154 non-null   int64  \n",
      " 1   Gender           2154 non-null   object \n",
      " 2   Ever_Married     2154 non-null   object \n",
      " 3   Age              2154 non-null   int64  \n",
      " 4   Graduated        2154 non-null   object \n",
      " 5   Profession       2154 non-null   object \n",
      " 6   Work_Experience  2154 non-null   float64\n",
      " 7   Spending_Score   2154 non-null   object \n",
      " 8   Family_Size      2154 non-null   float64\n",
      " 9   Var_1            2154 non-null   object \n",
      "dtypes: float64(2), int64(2), object(6)\n",
      "memory usage: 168.4+ KB\n"
     ]
    }
   ],
   "source": [
    "test.info()"
   ]
  },
  {
   "cell_type": "markdown",
   "id": "16775429-46ab-4916-a1be-b17bfe840e77",
   "metadata": {},
   "source": [
    "dropna.fillna 이런건 필요없음"
   ]
  },
  {
   "cell_type": "code",
   "execution_count": 4,
   "id": "5bca45b9-8a87-4a22-bbcb-f55957cedfd9",
   "metadata": {},
   "outputs": [
    {
     "name": "stdout",
     "output_type": "stream",
     "text": [
      "<class 'pandas.core.frame.DataFrame'>\n",
      "RangeIndex: 6665 entries, 0 to 6664\n",
      "Data columns (total 11 columns):\n",
      " #   Column           Non-Null Count  Dtype  \n",
      "---  ------           --------------  -----  \n",
      " 0   ID               6665 non-null   int64  \n",
      " 1   Gender           6665 non-null   object \n",
      " 2   Ever_Married     6665 non-null   object \n",
      " 3   Age              6665 non-null   int64  \n",
      " 4   Graduated        6665 non-null   object \n",
      " 5   Profession       6665 non-null   object \n",
      " 6   Work_Experience  6665 non-null   float64\n",
      " 7   Spending_Score   6665 non-null   object \n",
      " 8   Family_Size      6665 non-null   float64\n",
      " 9   Var_1            6665 non-null   object \n",
      " 10  Segmentation     6665 non-null   int64  \n",
      "dtypes: float64(2), int64(3), object(6)\n",
      "memory usage: 572.9+ KB\n"
     ]
    }
   ],
   "source": [
    "train.info()"
   ]
  },
  {
   "cell_type": "code",
   "execution_count": 5,
   "id": "74fdf356-d495-43e2-b83f-631d6bffe687",
   "metadata": {},
   "outputs": [
    {
     "name": "stdout",
     "output_type": "stream",
     "text": [
      "       ID  Gender Ever_Married  Age Graduated  Profession  Work_Experience  \\\n",
      "0  462809    Male           No   22        No  Healthcare              1.0   \n",
      "1  466315  Female          Yes   67       Yes    Engineer              1.0   \n",
      "2  461735    Male          Yes   67       Yes      Lawyer              0.0   \n",
      "3  461319    Male          Yes   56        No      Artist              0.0   \n",
      "4  460156    Male           No   32       Yes  Healthcare              1.0   \n",
      "5  464347  Female           No   33       Yes  Healthcare              1.0   \n",
      "6  465015  Female          Yes   61       Yes    Engineer              0.0   \n",
      "7  465176  Female          Yes   55       Yes      Artist              1.0   \n",
      "8  464041  Female           No   26       Yes    Engineer              1.0   \n",
      "9  464942    Male           No   19        No  Healthcare              4.0   \n",
      "\n",
      "  Spending_Score  Family_Size  Var_1  Segmentation  \n",
      "0            Low          4.0  Cat_4             4  \n",
      "1            Low          1.0  Cat_6             2  \n",
      "2           High          2.0  Cat_6             2  \n",
      "3        Average          2.0  Cat_6             3  \n",
      "4            Low          3.0  Cat_6             3  \n",
      "5            Low          3.0  Cat_6             4  \n",
      "6            Low          3.0  Cat_7             4  \n",
      "7        Average          4.0  Cat_6             3  \n",
      "8            Low          3.0  Cat_6             1  \n",
      "9            Low          4.0  Cat_4             4  \n"
     ]
    }
   ],
   "source": [
    "print(train.head(10))"
   ]
  },
  {
   "cell_type": "markdown",
   "id": "3730dfbf-81b2-474c-9d80-3f225e3cde1c",
   "metadata": {},
   "source": [
    "범주형 변수 원핫인코딩 필요"
   ]
  },
  {
   "cell_type": "code",
   "execution_count": 6,
   "id": "058c0dbe-da5d-460a-bdb6-b53ef88476ad",
   "metadata": {},
   "outputs": [],
   "source": [
    "# 원핫 인코딩\n",
    "train = pd.get_dummies(train)\n",
    "test = pd.get_dummies(test)"
   ]
  },
  {
   "cell_type": "code",
   "execution_count": 7,
   "id": "6fe1415b-90d4-4ca6-9e8f-3448432100f5",
   "metadata": {},
   "outputs": [
    {
     "name": "stdout",
     "output_type": "stream",
     "text": [
      "<class 'pandas.core.frame.DataFrame'>\n",
      "RangeIndex: 6665 entries, 0 to 6664\n",
      "Data columns (total 30 columns):\n",
      " #   Column                    Non-Null Count  Dtype  \n",
      "---  ------                    --------------  -----  \n",
      " 0   ID                        6665 non-null   int64  \n",
      " 1   Age                       6665 non-null   int64  \n",
      " 2   Work_Experience           6665 non-null   float64\n",
      " 3   Family_Size               6665 non-null   float64\n",
      " 4   Segmentation              6665 non-null   int64  \n",
      " 5   Gender_Female             6665 non-null   uint8  \n",
      " 6   Gender_Male               6665 non-null   uint8  \n",
      " 7   Ever_Married_No           6665 non-null   uint8  \n",
      " 8   Ever_Married_Yes          6665 non-null   uint8  \n",
      " 9   Graduated_No              6665 non-null   uint8  \n",
      " 10  Graduated_Yes             6665 non-null   uint8  \n",
      " 11  Profession_Artist         6665 non-null   uint8  \n",
      " 12  Profession_Doctor         6665 non-null   uint8  \n",
      " 13  Profession_Engineer       6665 non-null   uint8  \n",
      " 14  Profession_Entertainment  6665 non-null   uint8  \n",
      " 15  Profession_Executive      6665 non-null   uint8  \n",
      " 16  Profession_Healthcare     6665 non-null   uint8  \n",
      " 17  Profession_Homemaker      6665 non-null   uint8  \n",
      " 18  Profession_Lawyer         6665 non-null   uint8  \n",
      " 19  Profession_Marketing      6665 non-null   uint8  \n",
      " 20  Spending_Score_Average    6665 non-null   uint8  \n",
      " 21  Spending_Score_High       6665 non-null   uint8  \n",
      " 22  Spending_Score_Low        6665 non-null   uint8  \n",
      " 23  Var_1_Cat_1               6665 non-null   uint8  \n",
      " 24  Var_1_Cat_2               6665 non-null   uint8  \n",
      " 25  Var_1_Cat_3               6665 non-null   uint8  \n",
      " 26  Var_1_Cat_4               6665 non-null   uint8  \n",
      " 27  Var_1_Cat_5               6665 non-null   uint8  \n",
      " 28  Var_1_Cat_6               6665 non-null   uint8  \n",
      " 29  Var_1_Cat_7               6665 non-null   uint8  \n",
      "dtypes: float64(2), int64(3), uint8(25)\n",
      "memory usage: 423.2 KB\n",
      "None\n"
     ]
    }
   ],
   "source": [
    "print(train.info())"
   ]
  },
  {
   "cell_type": "code",
   "execution_count": 8,
   "id": "9a1c4a40-2b04-4401-a7a5-d231b408afb4",
   "metadata": {},
   "outputs": [],
   "source": [
    "target = train.pop('Segmentation')\n",
    "ID = test.pop('ID')"
   ]
  },
  {
   "cell_type": "code",
   "execution_count": 13,
   "id": "19aa07a7-2575-480c-bdaa-0ef1ffd787d7",
   "metadata": {},
   "outputs": [
    {
     "name": "stdout",
     "output_type": "stream",
     "text": [
      "<class 'pandas.core.frame.DataFrame'>\n",
      "RangeIndex: 6665 entries, 0 to 6664\n",
      "Data columns (total 29 columns):\n",
      " #   Column                    Non-Null Count  Dtype  \n",
      "---  ------                    --------------  -----  \n",
      " 0   ID                        6665 non-null   int64  \n",
      " 1   Age                       6665 non-null   int64  \n",
      " 2   Work_Experience           6665 non-null   float64\n",
      " 3   Family_Size               6665 non-null   float64\n",
      " 4   Gender_Female             6665 non-null   uint8  \n",
      " 5   Gender_Male               6665 non-null   uint8  \n",
      " 6   Ever_Married_No           6665 non-null   uint8  \n",
      " 7   Ever_Married_Yes          6665 non-null   uint8  \n",
      " 8   Graduated_No              6665 non-null   uint8  \n",
      " 9   Graduated_Yes             6665 non-null   uint8  \n",
      " 10  Profession_Artist         6665 non-null   uint8  \n",
      " 11  Profession_Doctor         6665 non-null   uint8  \n",
      " 12  Profession_Engineer       6665 non-null   uint8  \n",
      " 13  Profession_Entertainment  6665 non-null   uint8  \n",
      " 14  Profession_Executive      6665 non-null   uint8  \n",
      " 15  Profession_Healthcare     6665 non-null   uint8  \n",
      " 16  Profession_Homemaker      6665 non-null   uint8  \n",
      " 17  Profession_Lawyer         6665 non-null   uint8  \n",
      " 18  Profession_Marketing      6665 non-null   uint8  \n",
      " 19  Spending_Score_Average    6665 non-null   uint8  \n",
      " 20  Spending_Score_High       6665 non-null   uint8  \n",
      " 21  Spending_Score_Low        6665 non-null   uint8  \n",
      " 22  Var_1_Cat_1               6665 non-null   uint8  \n",
      " 23  Var_1_Cat_2               6665 non-null   uint8  \n",
      " 24  Var_1_Cat_3               6665 non-null   uint8  \n",
      " 25  Var_1_Cat_4               6665 non-null   uint8  \n",
      " 26  Var_1_Cat_5               6665 non-null   uint8  \n",
      " 27  Var_1_Cat_6               6665 non-null   uint8  \n",
      " 28  Var_1_Cat_7               6665 non-null   uint8  \n",
      "dtypes: float64(2), int64(2), uint8(25)\n",
      "memory usage: 371.1 KB\n",
      "<class 'pandas.core.frame.DataFrame'>\n",
      "RangeIndex: 2154 entries, 0 to 2153\n",
      "Data columns (total 28 columns):\n",
      " #   Column                    Non-Null Count  Dtype  \n",
      "---  ------                    --------------  -----  \n",
      " 0   Age                       2154 non-null   int64  \n",
      " 1   Work_Experience           2154 non-null   float64\n",
      " 2   Family_Size               2154 non-null   float64\n",
      " 3   Gender_Female             2154 non-null   uint8  \n",
      " 4   Gender_Male               2154 non-null   uint8  \n",
      " 5   Ever_Married_No           2154 non-null   uint8  \n",
      " 6   Ever_Married_Yes          2154 non-null   uint8  \n",
      " 7   Graduated_No              2154 non-null   uint8  \n",
      " 8   Graduated_Yes             2154 non-null   uint8  \n",
      " 9   Profession_Artist         2154 non-null   uint8  \n",
      " 10  Profession_Doctor         2154 non-null   uint8  \n",
      " 11  Profession_Engineer       2154 non-null   uint8  \n",
      " 12  Profession_Entertainment  2154 non-null   uint8  \n",
      " 13  Profession_Executive      2154 non-null   uint8  \n",
      " 14  Profession_Healthcare     2154 non-null   uint8  \n",
      " 15  Profession_Homemaker      2154 non-null   uint8  \n",
      " 16  Profession_Lawyer         2154 non-null   uint8  \n",
      " 17  Profession_Marketing      2154 non-null   uint8  \n",
      " 18  Spending_Score_Average    2154 non-null   uint8  \n",
      " 19  Spending_Score_High       2154 non-null   uint8  \n",
      " 20  Spending_Score_Low        2154 non-null   uint8  \n",
      " 21  Var_1_Cat_1               2154 non-null   uint8  \n",
      " 22  Var_1_Cat_2               2154 non-null   uint8  \n",
      " 23  Var_1_Cat_3               2154 non-null   uint8  \n",
      " 24  Var_1_Cat_4               2154 non-null   uint8  \n",
      " 25  Var_1_Cat_5               2154 non-null   uint8  \n",
      " 26  Var_1_Cat_6               2154 non-null   uint8  \n",
      " 27  Var_1_Cat_7               2154 non-null   uint8  \n",
      "dtypes: float64(2), int64(1), uint8(25)\n",
      "memory usage: 103.2 KB\n",
      "None None\n"
     ]
    }
   ],
   "source": [
    "print(train.info(), test.info())"
   ]
  },
  {
   "cell_type": "code",
   "execution_count": 14,
   "id": "eedcff5f-358a-4f98-9ef1-8405dde467eb",
   "metadata": {},
   "outputs": [],
   "source": [
    "train = train.drop('ID', axis=1)"
   ]
  },
  {
   "cell_type": "code",
   "execution_count": 22,
   "id": "95a77747-1801-4b52-9ef9-e7620accb17f",
   "metadata": {},
   "outputs": [
    {
     "data": {
      "text/html": [
       "<style>#sk-container-id-1 {color: black;}#sk-container-id-1 pre{padding: 0;}#sk-container-id-1 div.sk-toggleable {background-color: white;}#sk-container-id-1 label.sk-toggleable__label {cursor: pointer;display: block;width: 100%;margin-bottom: 0;padding: 0.3em;box-sizing: border-box;text-align: center;}#sk-container-id-1 label.sk-toggleable__label-arrow:before {content: \"▸\";float: left;margin-right: 0.25em;color: #696969;}#sk-container-id-1 label.sk-toggleable__label-arrow:hover:before {color: black;}#sk-container-id-1 div.sk-estimator:hover label.sk-toggleable__label-arrow:before {color: black;}#sk-container-id-1 div.sk-toggleable__content {max-height: 0;max-width: 0;overflow: hidden;text-align: left;background-color: #f0f8ff;}#sk-container-id-1 div.sk-toggleable__content pre {margin: 0.2em;color: black;border-radius: 0.25em;background-color: #f0f8ff;}#sk-container-id-1 input.sk-toggleable__control:checked~div.sk-toggleable__content {max-height: 200px;max-width: 100%;overflow: auto;}#sk-container-id-1 input.sk-toggleable__control:checked~label.sk-toggleable__label-arrow:before {content: \"▾\";}#sk-container-id-1 div.sk-estimator input.sk-toggleable__control:checked~label.sk-toggleable__label {background-color: #d4ebff;}#sk-container-id-1 div.sk-label input.sk-toggleable__control:checked~label.sk-toggleable__label {background-color: #d4ebff;}#sk-container-id-1 input.sk-hidden--visually {border: 0;clip: rect(1px 1px 1px 1px);clip: rect(1px, 1px, 1px, 1px);height: 1px;margin: -1px;overflow: hidden;padding: 0;position: absolute;width: 1px;}#sk-container-id-1 div.sk-estimator {font-family: monospace;background-color: #f0f8ff;border: 1px dotted black;border-radius: 0.25em;box-sizing: border-box;margin-bottom: 0.5em;}#sk-container-id-1 div.sk-estimator:hover {background-color: #d4ebff;}#sk-container-id-1 div.sk-parallel-item::after {content: \"\";width: 100%;border-bottom: 1px solid gray;flex-grow: 1;}#sk-container-id-1 div.sk-label:hover label.sk-toggleable__label {background-color: #d4ebff;}#sk-container-id-1 div.sk-serial::before {content: \"\";position: absolute;border-left: 1px solid gray;box-sizing: border-box;top: 0;bottom: 0;left: 50%;z-index: 0;}#sk-container-id-1 div.sk-serial {display: flex;flex-direction: column;align-items: center;background-color: white;padding-right: 0.2em;padding-left: 0.2em;position: relative;}#sk-container-id-1 div.sk-item {position: relative;z-index: 1;}#sk-container-id-1 div.sk-parallel {display: flex;align-items: stretch;justify-content: center;background-color: white;position: relative;}#sk-container-id-1 div.sk-item::before, #sk-container-id-1 div.sk-parallel-item::before {content: \"\";position: absolute;border-left: 1px solid gray;box-sizing: border-box;top: 0;bottom: 0;left: 50%;z-index: -1;}#sk-container-id-1 div.sk-parallel-item {display: flex;flex-direction: column;z-index: 1;position: relative;background-color: white;}#sk-container-id-1 div.sk-parallel-item:first-child::after {align-self: flex-end;width: 50%;}#sk-container-id-1 div.sk-parallel-item:last-child::after {align-self: flex-start;width: 50%;}#sk-container-id-1 div.sk-parallel-item:only-child::after {width: 0;}#sk-container-id-1 div.sk-dashed-wrapped {border: 1px dashed gray;margin: 0 0.4em 0.5em 0.4em;box-sizing: border-box;padding-bottom: 0.4em;background-color: white;}#sk-container-id-1 div.sk-label label {font-family: monospace;font-weight: bold;display: inline-block;line-height: 1.2em;}#sk-container-id-1 div.sk-label-container {text-align: center;}#sk-container-id-1 div.sk-container {/* jupyter's `normalize.less` sets `[hidden] { display: none; }` but bootstrap.min.css set `[hidden] { display: none !important; }` so we also need the `!important` here to be able to override the default hidden behavior on the sphinx rendered scikit-learn.org. See: https://github.com/scikit-learn/scikit-learn/issues/21755 */display: inline-block !important;position: relative;}#sk-container-id-1 div.sk-text-repr-fallback {display: none;}</style><div id=\"sk-container-id-1\" class=\"sk-top-container\"><div class=\"sk-text-repr-fallback\"><pre>RandomForestClassifier(random_state=0)</pre><b>In a Jupyter environment, please rerun this cell to show the HTML representation or trust the notebook. <br />On GitHub, the HTML representation is unable to render, please try loading this page with nbviewer.org.</b></div><div class=\"sk-container\" hidden><div class=\"sk-item\"><div class=\"sk-estimator sk-toggleable\"><input class=\"sk-toggleable__control sk-hidden--visually\" id=\"sk-estimator-id-1\" type=\"checkbox\" checked><label for=\"sk-estimator-id-1\" class=\"sk-toggleable__label sk-toggleable__label-arrow\">RandomForestClassifier</label><div class=\"sk-toggleable__content\"><pre>RandomForestClassifier(random_state=0)</pre></div></div></div></div></div>"
      ],
      "text/plain": [
       "RandomForestClassifier(random_state=0)"
      ]
     },
     "execution_count": 22,
     "metadata": {},
     "output_type": "execute_result"
    }
   ],
   "source": [
    "# 모델 선택 및 학습\n",
    "from sklearn.ensemble import RandomForestClassifier\n",
    "rf = RandomForestClassifier(random_state=0)\n",
    "rf.fit(train, target)\n"
   ]
  },
  {
   "cell_type": "code",
   "execution_count": 23,
   "id": "ccb509e0-1b1e-402c-ab6f-2708bd3a0d50",
   "metadata": {},
   "outputs": [
    {
     "name": "stdout",
     "output_type": "stream",
     "text": [
      "[1 3 3 ... 2 3 4]\n"
     ]
    }
   ],
   "source": [
    "pred = rf.predict(test)\n",
    "print(pred)"
   ]
  },
  {
   "cell_type": "code",
   "execution_count": 26,
   "id": "de9c64fa-8c6e-43f0-8964-584d6dc49467",
   "metadata": {},
   "outputs": [
    {
     "name": "stdout",
     "output_type": "stream",
     "text": [
      "       ID  Segmentation\n",
      "0  458989             1\n",
      "1  458994             3\n",
      "2  459000             3\n",
      "3  459003             3\n",
      "4  459005             1\n"
     ]
    }
   ],
   "source": [
    "K = pd.DataFrame({'ID' : ID, 'Segmentation' : pred})\n",
    "print(K.head())"
   ]
  }
 ],
 "metadata": {
  "kernelspec": {
   "display_name": "Python 3 (ipykernel)",
   "language": "python",
   "name": "python3"
  },
  "language_info": {
   "codemirror_mode": {
    "name": "ipython",
    "version": 3
   },
   "file_extension": ".py",
   "mimetype": "text/x-python",
   "name": "python",
   "nbconvert_exporter": "python",
   "pygments_lexer": "ipython3",
   "version": "3.9.13"
  }
 },
 "nbformat": 4,
 "nbformat_minor": 5
}
