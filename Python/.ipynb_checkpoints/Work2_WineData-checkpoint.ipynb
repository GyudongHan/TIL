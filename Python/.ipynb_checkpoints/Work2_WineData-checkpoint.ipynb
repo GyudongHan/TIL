{
 "cells": [
  {
   "cell_type": "code",
   "execution_count": 1,
   "id": "5935dceb-3545-492b-b8f6-9d106f4663c7",
   "metadata": {},
   "outputs": [
    {
     "name": "stdout",
     "output_type": "stream",
     "text": [
      "(142, 13) (142, 1) (36, 13)\n"
     ]
    }
   ],
   "source": [
    "import pandas as pd\n",
    "import numpy as np\n",
    "\n",
    "# 데이터 세팅하기 or 불러오기\n",
    "from sklearn.datasets import load_wine\n",
    "wine = load_wine()\n",
    "x = pd.DataFrame(wine.data, columns = wine.feature_names)\n",
    "y = pd.DataFrame(wine.target)\n",
    "\n",
    "# 실기 시험 데이터 셋으로 세팅하기\n",
    "from sklearn.model_selection import train_test_split\n",
    "x_train, x_test, y_train, y_test = train_test_split(x,y, test_size = 0.2, stratify = y, random_state=23)\n",
    "\n",
    "x_test = pd.DataFrame(x_test)\n",
    "x_train = pd.DataFrame(x_train)\n",
    "y_train = pd.DataFrame(y_train)\n",
    "\n",
    "\n",
    "y_train.columns = ['target']\n",
    "print(x_train.shape, y_train.shape, x_test.shape)"
   ]
  },
  {
   "cell_type": "code",
   "execution_count": 2,
   "id": "a050f175-b804-43ba-a317-61e64a752bde",
   "metadata": {},
   "outputs": [
    {
     "data": {
      "text/html": [
       "<div>\n",
       "<style scoped>\n",
       "    .dataframe tbody tr th:only-of-type {\n",
       "        vertical-align: middle;\n",
       "    }\n",
       "\n",
       "    .dataframe tbody tr th {\n",
       "        vertical-align: top;\n",
       "    }\n",
       "\n",
       "    .dataframe thead th {\n",
       "        text-align: right;\n",
       "    }\n",
       "</style>\n",
       "<table border=\"1\" class=\"dataframe\">\n",
       "  <thead>\n",
       "    <tr style=\"text-align: right;\">\n",
       "      <th></th>\n",
       "      <th>alcohol</th>\n",
       "      <th>malic_acid</th>\n",
       "      <th>ash</th>\n",
       "      <th>alcalinity_of_ash</th>\n",
       "      <th>magnesium</th>\n",
       "      <th>total_phenols</th>\n",
       "      <th>flavanoids</th>\n",
       "      <th>nonflavanoid_phenols</th>\n",
       "      <th>proanthocyanins</th>\n",
       "      <th>color_intensity</th>\n",
       "      <th>hue</th>\n",
       "      <th>od280/od315_of_diluted_wines</th>\n",
       "      <th>proline</th>\n",
       "    </tr>\n",
       "  </thead>\n",
       "  <tbody>\n",
       "    <tr>\n",
       "      <th>84</th>\n",
       "      <td>11.84</td>\n",
       "      <td>0.89</td>\n",
       "      <td>2.58</td>\n",
       "      <td>18.0</td>\n",
       "      <td>94.0</td>\n",
       "      <td>2.20</td>\n",
       "      <td>2.21</td>\n",
       "      <td>0.22</td>\n",
       "      <td>2.35</td>\n",
       "      <td>3.05</td>\n",
       "      <td>0.79</td>\n",
       "      <td>3.08</td>\n",
       "      <td>520.0</td>\n",
       "    </tr>\n",
       "    <tr>\n",
       "      <th>25</th>\n",
       "      <td>13.05</td>\n",
       "      <td>2.05</td>\n",
       "      <td>3.22</td>\n",
       "      <td>25.0</td>\n",
       "      <td>124.0</td>\n",
       "      <td>2.63</td>\n",
       "      <td>2.68</td>\n",
       "      <td>0.47</td>\n",
       "      <td>1.92</td>\n",
       "      <td>3.58</td>\n",
       "      <td>1.13</td>\n",
       "      <td>3.20</td>\n",
       "      <td>830.0</td>\n",
       "    </tr>\n",
       "    <tr>\n",
       "      <th>49</th>\n",
       "      <td>13.94</td>\n",
       "      <td>1.73</td>\n",
       "      <td>2.27</td>\n",
       "      <td>17.4</td>\n",
       "      <td>108.0</td>\n",
       "      <td>2.88</td>\n",
       "      <td>3.54</td>\n",
       "      <td>0.32</td>\n",
       "      <td>2.08</td>\n",
       "      <td>8.90</td>\n",
       "      <td>1.12</td>\n",
       "      <td>3.10</td>\n",
       "      <td>1260.0</td>\n",
       "    </tr>\n",
       "    <tr>\n",
       "      <th>22</th>\n",
       "      <td>13.71</td>\n",
       "      <td>1.86</td>\n",
       "      <td>2.36</td>\n",
       "      <td>16.6</td>\n",
       "      <td>101.0</td>\n",
       "      <td>2.61</td>\n",
       "      <td>2.88</td>\n",
       "      <td>0.27</td>\n",
       "      <td>1.69</td>\n",
       "      <td>3.80</td>\n",
       "      <td>1.11</td>\n",
       "      <td>4.00</td>\n",
       "      <td>1035.0</td>\n",
       "    </tr>\n",
       "    <tr>\n",
       "      <th>2</th>\n",
       "      <td>13.16</td>\n",
       "      <td>2.36</td>\n",
       "      <td>2.67</td>\n",
       "      <td>18.6</td>\n",
       "      <td>101.0</td>\n",
       "      <td>2.80</td>\n",
       "      <td>3.24</td>\n",
       "      <td>0.30</td>\n",
       "      <td>2.81</td>\n",
       "      <td>5.68</td>\n",
       "      <td>1.03</td>\n",
       "      <td>3.17</td>\n",
       "      <td>1185.0</td>\n",
       "    </tr>\n",
       "  </tbody>\n",
       "</table>\n",
       "</div>"
      ],
      "text/plain": [
       "    alcohol  malic_acid   ash  alcalinity_of_ash  magnesium  total_phenols  \\\n",
       "84    11.84        0.89  2.58               18.0       94.0           2.20   \n",
       "25    13.05        2.05  3.22               25.0      124.0           2.63   \n",
       "49    13.94        1.73  2.27               17.4      108.0           2.88   \n",
       "22    13.71        1.86  2.36               16.6      101.0           2.61   \n",
       "2     13.16        2.36  2.67               18.6      101.0           2.80   \n",
       "\n",
       "    flavanoids  nonflavanoid_phenols  proanthocyanins  color_intensity   hue  \\\n",
       "84        2.21                  0.22             2.35             3.05  0.79   \n",
       "25        2.68                  0.47             1.92             3.58  1.13   \n",
       "49        3.54                  0.32             2.08             8.90  1.12   \n",
       "22        2.88                  0.27             1.69             3.80  1.11   \n",
       "2         3.24                  0.30             2.81             5.68  1.03   \n",
       "\n",
       "    od280/od315_of_diluted_wines  proline  \n",
       "84                          3.08    520.0  \n",
       "25                          3.20    830.0  \n",
       "49                          3.10   1260.0  \n",
       "22                          4.00   1035.0  \n",
       "2                           3.17   1185.0  "
      ]
     },
     "execution_count": 2,
     "metadata": {},
     "output_type": "execute_result"
    }
   ],
   "source": [
    "x_train.head()"
   ]
  },
  {
   "cell_type": "code",
   "execution_count": 3,
   "id": "2334d1bf-c010-48fe-a627-c66a59138064",
   "metadata": {
    "scrolled": true
   },
   "outputs": [
    {
     "name": "stdout",
     "output_type": "stream",
     "text": [
      "<class 'pandas.core.frame.DataFrame'>\n",
      "Int64Index: 142 entries, 84 to 55\n",
      "Data columns (total 13 columns):\n",
      " #   Column                        Non-Null Count  Dtype  \n",
      "---  ------                        --------------  -----  \n",
      " 0   alcohol                       142 non-null    float64\n",
      " 1   malic_acid                    142 non-null    float64\n",
      " 2   ash                           142 non-null    float64\n",
      " 3   alcalinity_of_ash             142 non-null    float64\n",
      " 4   magnesium                     142 non-null    float64\n",
      " 5   total_phenols                 142 non-null    float64\n",
      " 6   flavanoids                    142 non-null    float64\n",
      " 7   nonflavanoid_phenols          142 non-null    float64\n",
      " 8   proanthocyanins               142 non-null    float64\n",
      " 9   color_intensity               142 non-null    float64\n",
      " 10  hue                           142 non-null    float64\n",
      " 11  od280/od315_of_diluted_wines  142 non-null    float64\n",
      " 12  proline                       142 non-null    float64\n",
      "dtypes: float64(13)\n",
      "memory usage: 15.5 KB\n"
     ]
    }
   ],
   "source": [
    "x_train.info()"
   ]
  },
  {
   "cell_type": "code",
   "execution_count": 4,
   "id": "25322dff-6566-4514-b590-78a970c54a70",
   "metadata": {},
   "outputs": [
    {
     "name": "stdout",
     "output_type": "stream",
     "text": [
      "<class 'pandas.core.frame.DataFrame'>\n",
      "Int64Index: 142 entries, 84 to 55\n",
      "Data columns (total 1 columns):\n",
      " #   Column  Non-Null Count  Dtype\n",
      "---  ------  --------------  -----\n",
      " 0   target  142 non-null    int32\n",
      "dtypes: int32(1)\n",
      "memory usage: 1.7 KB\n"
     ]
    }
   ],
   "source": [
    "y_train.info()"
   ]
  },
  {
   "cell_type": "code",
   "execution_count": 5,
   "id": "8e2e6037-7d79-4481-b099-624fb1177096",
   "metadata": {},
   "outputs": [
    {
     "name": "stdout",
     "output_type": "stream",
     "text": [
      "<class 'pandas.core.frame.DataFrame'>\n",
      "Int64Index: 36 entries, 114 to 26\n",
      "Data columns (total 13 columns):\n",
      " #   Column                        Non-Null Count  Dtype  \n",
      "---  ------                        --------------  -----  \n",
      " 0   alcohol                       36 non-null     float64\n",
      " 1   malic_acid                    36 non-null     float64\n",
      " 2   ash                           36 non-null     float64\n",
      " 3   alcalinity_of_ash             36 non-null     float64\n",
      " 4   magnesium                     36 non-null     float64\n",
      " 5   total_phenols                 36 non-null     float64\n",
      " 6   flavanoids                    36 non-null     float64\n",
      " 7   nonflavanoid_phenols          36 non-null     float64\n",
      " 8   proanthocyanins               36 non-null     float64\n",
      " 9   color_intensity               36 non-null     float64\n",
      " 10  hue                           36 non-null     float64\n",
      " 11  od280/od315_of_diluted_wines  36 non-null     float64\n",
      " 12  proline                       36 non-null     float64\n",
      "dtypes: float64(13)\n",
      "memory usage: 3.9 KB\n"
     ]
    }
   ],
   "source": [
    "x_test.info()"
   ]
  },
  {
   "cell_type": "code",
   "execution_count": 6,
   "id": "a7235fc8-9cb3-4e16-9730-49cf3f28e464",
   "metadata": {},
   "outputs": [
    {
     "data": {
      "text/plain": [
       "target\n",
       "1         57\n",
       "0         47\n",
       "2         38\n",
       "dtype: int64"
      ]
     },
     "execution_count": 6,
     "metadata": {},
     "output_type": "execute_result"
    }
   ],
   "source": [
    "y_train.value_counts()"
   ]
  },
  {
   "cell_type": "code",
   "execution_count": 7,
   "id": "fb44418a-e344-40f3-b045-3b1f188c9129",
   "metadata": {
    "scrolled": true
   },
   "outputs": [
    {
     "name": "stdout",
     "output_type": "stream",
     "text": [
      "          alcohol  malic_acid         ash  alcalinity_of_ash   magnesium  \\\n",
      "count  142.000000  142.000000  142.000000         142.000000  142.000000   \n",
      "mean    13.002887    2.350634    2.368592          19.488732   99.669014   \n",
      "std      0.822226    1.117980    0.282408           3.379813   13.628673   \n",
      "min     11.030000    0.740000    1.360000          10.600000   70.000000   \n",
      "25%     12.362500    1.615000    2.210000          17.200000   88.000000   \n",
      "50%     13.050000    1.875000    2.360000          19.500000   98.000000   \n",
      "75%     13.677500    3.170000    2.597500          21.500000  107.000000   \n",
      "max     14.830000    5.800000    3.220000          30.000000  151.000000   \n",
      "\n",
      "       total_phenols  flavanoids  nonflavanoid_phenols  proanthocyanins  \\\n",
      "count     142.000000  142.000000            142.000000       142.000000   \n",
      "mean        2.300211    1.997254              0.372042         1.594225   \n",
      "std         0.611334    0.981535              0.128519         0.579173   \n",
      "min         1.100000    0.470000              0.130000         0.410000   \n",
      "25%         1.792500    1.125000              0.270000         1.250000   \n",
      "50%         2.265000    2.035000              0.345000         1.550000   \n",
      "75%         2.800000    2.787500              0.470000         1.970000   \n",
      "max         3.880000    3.930000              0.660000         3.580000   \n",
      "\n",
      "       color_intensity         hue  od280/od315_of_diluted_wines      proline  \n",
      "count       142.000000  142.000000                    142.000000   142.000000  \n",
      "mean          5.014437    0.966310                      2.597606   753.154930  \n",
      "std           2.397807    0.230137                      0.698194   316.315654  \n",
      "min           1.280000    0.480000                      1.270000   290.000000  \n",
      "25%           3.102500    0.802500                      1.937500   511.250000  \n",
      "50%           4.550000    0.985000                      2.780000   673.500000  \n",
      "75%           6.200000    1.120000                      3.152500   988.750000  \n",
      "max          13.000000    1.710000                      4.000000  1680.000000  \n",
      "         alcohol  malic_acid        ash  alcalinity_of_ash   magnesium  \\\n",
      "count  36.000000   36.000000  36.000000          36.000000   36.000000   \n",
      "mean   12.991667    2.280000   2.358333          19.519444  100.027778   \n",
      "std     0.780595    1.127863   0.243399           3.221962   16.829372   \n",
      "min    11.560000    0.920000   1.900000          13.200000   78.000000   \n",
      "25%    12.362500    1.517500   2.222500          16.850000   87.750000   \n",
      "50%    12.975000    1.750000   2.320000          19.000000   97.000000   \n",
      "75%    13.665000    2.817500   2.465000          21.625000  111.250000   \n",
      "max    14.220000    5.190000   3.230000          28.500000  162.000000   \n",
      "\n",
      "       total_phenols  flavanoids  nonflavanoid_phenols  proanthocyanins  \\\n",
      "count      36.000000   36.000000             36.000000        36.000000   \n",
      "mean        2.275000    2.155556              0.321667         1.577778   \n",
      "std         0.688993    1.069519              0.098518         0.552377   \n",
      "min         0.980000    0.340000              0.170000         0.680000   \n",
      "25%         1.647500    1.242500              0.260000         1.247500   \n",
      "50%         2.420000    2.280000              0.295000         1.555000   \n",
      "75%         2.850000    3.007500              0.392500         1.855000   \n",
      "max         3.500000    5.080000              0.610000         3.280000   \n",
      "\n",
      "       color_intensity       hue  od280/od315_of_diluted_wines      proline  \n",
      "count        36.000000  36.00000                     36.000000    36.000000  \n",
      "mean          5.230278   0.92250                      2.667222   722.194444  \n",
      "std           1.994728   0.22197                      0.762517   312.462187  \n",
      "min           2.450000   0.58000                      1.330000   278.000000  \n",
      "25%           3.850000   0.73000                      1.957500   461.250000  \n",
      "50%           5.100000   0.93000                      2.855000   669.000000  \n",
      "75%           6.192500   1.09750                      3.315000   945.250000  \n",
      "max           9.700000   1.38000                      3.690000  1515.000000  \n"
     ]
    }
   ],
   "source": [
    "print(x_train.describe())\n",
    "print(x_test.describe())"
   ]
  },
  {
   "cell_type": "code",
   "execution_count": 8,
   "id": "f88f5d2b-367a-44db-b320-866f9c2a73fe",
   "metadata": {},
   "outputs": [
    {
     "name": "stdout",
     "output_type": "stream",
     "text": [
      "(113, 13) (113,)\n"
     ]
    }
   ],
   "source": [
    "from sklearn.model_selection import train_test_split\n",
    "x_train, x_val, y_train, y_val = train_test_split(x_train, y_train['target'], test_size = 0.2, stratify = y_train['target'], random_state=23)\n",
    "print(x_train.shape, y_train.shape)"
   ]
  },
  {
   "cell_type": "markdown",
   "id": "e7de7ac6-d304-462a-b001-b449b126d911",
   "metadata": {},
   "source": [
    "# 모델 성능평가"
   ]
  },
  {
   "cell_type": "code",
   "execution_count": 17,
   "id": "280448e5-b7c3-4eae-9063-22dd30f35cc7",
   "metadata": {},
   "outputs": [
    {
     "data": {
      "text/html": [
       "<style>#sk-container-id-1 {color: black;}#sk-container-id-1 pre{padding: 0;}#sk-container-id-1 div.sk-toggleable {background-color: white;}#sk-container-id-1 label.sk-toggleable__label {cursor: pointer;display: block;width: 100%;margin-bottom: 0;padding: 0.3em;box-sizing: border-box;text-align: center;}#sk-container-id-1 label.sk-toggleable__label-arrow:before {content: \"▸\";float: left;margin-right: 0.25em;color: #696969;}#sk-container-id-1 label.sk-toggleable__label-arrow:hover:before {color: black;}#sk-container-id-1 div.sk-estimator:hover label.sk-toggleable__label-arrow:before {color: black;}#sk-container-id-1 div.sk-toggleable__content {max-height: 0;max-width: 0;overflow: hidden;text-align: left;background-color: #f0f8ff;}#sk-container-id-1 div.sk-toggleable__content pre {margin: 0.2em;color: black;border-radius: 0.25em;background-color: #f0f8ff;}#sk-container-id-1 input.sk-toggleable__control:checked~div.sk-toggleable__content {max-height: 200px;max-width: 100%;overflow: auto;}#sk-container-id-1 input.sk-toggleable__control:checked~label.sk-toggleable__label-arrow:before {content: \"▾\";}#sk-container-id-1 div.sk-estimator input.sk-toggleable__control:checked~label.sk-toggleable__label {background-color: #d4ebff;}#sk-container-id-1 div.sk-label input.sk-toggleable__control:checked~label.sk-toggleable__label {background-color: #d4ebff;}#sk-container-id-1 input.sk-hidden--visually {border: 0;clip: rect(1px 1px 1px 1px);clip: rect(1px, 1px, 1px, 1px);height: 1px;margin: -1px;overflow: hidden;padding: 0;position: absolute;width: 1px;}#sk-container-id-1 div.sk-estimator {font-family: monospace;background-color: #f0f8ff;border: 1px dotted black;border-radius: 0.25em;box-sizing: border-box;margin-bottom: 0.5em;}#sk-container-id-1 div.sk-estimator:hover {background-color: #d4ebff;}#sk-container-id-1 div.sk-parallel-item::after {content: \"\";width: 100%;border-bottom: 1px solid gray;flex-grow: 1;}#sk-container-id-1 div.sk-label:hover label.sk-toggleable__label {background-color: #d4ebff;}#sk-container-id-1 div.sk-serial::before {content: \"\";position: absolute;border-left: 1px solid gray;box-sizing: border-box;top: 0;bottom: 0;left: 50%;z-index: 0;}#sk-container-id-1 div.sk-serial {display: flex;flex-direction: column;align-items: center;background-color: white;padding-right: 0.2em;padding-left: 0.2em;position: relative;}#sk-container-id-1 div.sk-item {position: relative;z-index: 1;}#sk-container-id-1 div.sk-parallel {display: flex;align-items: stretch;justify-content: center;background-color: white;position: relative;}#sk-container-id-1 div.sk-item::before, #sk-container-id-1 div.sk-parallel-item::before {content: \"\";position: absolute;border-left: 1px solid gray;box-sizing: border-box;top: 0;bottom: 0;left: 50%;z-index: -1;}#sk-container-id-1 div.sk-parallel-item {display: flex;flex-direction: column;z-index: 1;position: relative;background-color: white;}#sk-container-id-1 div.sk-parallel-item:first-child::after {align-self: flex-end;width: 50%;}#sk-container-id-1 div.sk-parallel-item:last-child::after {align-self: flex-start;width: 50%;}#sk-container-id-1 div.sk-parallel-item:only-child::after {width: 0;}#sk-container-id-1 div.sk-dashed-wrapped {border: 1px dashed gray;margin: 0 0.4em 0.5em 0.4em;box-sizing: border-box;padding-bottom: 0.4em;background-color: white;}#sk-container-id-1 div.sk-label label {font-family: monospace;font-weight: bold;display: inline-block;line-height: 1.2em;}#sk-container-id-1 div.sk-label-container {text-align: center;}#sk-container-id-1 div.sk-container {/* jupyter's `normalize.less` sets `[hidden] { display: none; }` but bootstrap.min.css set `[hidden] { display: none !important; }` so we also need the `!important` here to be able to override the default hidden behavior on the sphinx rendered scikit-learn.org. See: https://github.com/scikit-learn/scikit-learn/issues/21755 */display: inline-block !important;position: relative;}#sk-container-id-1 div.sk-text-repr-fallback {display: none;}</style><div id=\"sk-container-id-1\" class=\"sk-top-container\"><div class=\"sk-text-repr-fallback\"><pre>RandomForestClassifier()</pre><b>In a Jupyter environment, please rerun this cell to show the HTML representation or trust the notebook. <br />On GitHub, the HTML representation is unable to render, please try loading this page with nbviewer.org.</b></div><div class=\"sk-container\" hidden><div class=\"sk-item\"><div class=\"sk-estimator sk-toggleable\"><input class=\"sk-toggleable__control sk-hidden--visually\" id=\"sk-estimator-id-1\" type=\"checkbox\" checked><label for=\"sk-estimator-id-1\" class=\"sk-toggleable__label sk-toggleable__label-arrow\">RandomForestClassifier</label><div class=\"sk-toggleable__content\"><pre>RandomForestClassifier()</pre></div></div></div></div></div>"
      ],
      "text/plain": [
       "RandomForestClassifier()"
      ]
     },
     "execution_count": 17,
     "metadata": {},
     "output_type": "execute_result"
    }
   ],
   "source": [
    "import sklearn.ensemble\n",
    "from sklearn.ensemble import RandomForestClassifier\n",
    "\n",
    "model = RandomForestClassifier()\n",
    "# 모델은 뭘 핏해야할까? 뭘 학습해야할까? = > 당연히 _train 데이터지!\n",
    "model.fit(x_train, y_train)"
   ]
  },
  {
   "cell_type": "code",
   "execution_count": 23,
   "id": "849d5ed8-ae11-41e4-81b3-74ada144efdc",
   "metadata": {},
   "outputs": [],
   "source": [
    "# 모델을 사용하여 테스트 데이터 예측 ?\n",
    "# !!!학습된 모델을!!! 이용하여 x_val 평가용 지표를 넣어서 y값을 예측해봄\n",
    "y_pred = model.predict(x_val)"
   ]
  },
  {
   "cell_type": "code",
   "execution_count": 26,
   "id": "85c9f774-101a-4a32-8c90-dca50a861673",
   "metadata": {},
   "outputs": [
    {
     "name": "stdout",
     "output_type": "stream",
     "text": [
      "0.9655172413793104\n",
      "0.9658994032395567\n"
     ]
    }
   ],
   "source": [
    "# 평가 (정확도 , F1 score, AUC-ROC=이진분류에서만!, recall_score) \n",
    "from sklearn.metrics import accuracy_score, f1_score, recall_score, roc_auc_score\n",
    "acc = accuracy_score(y_val, y_pred)   # 배치(실제값/예측값)\n",
    "f1 = f1_score(y_val, y_pred, average = 'macro')\n",
    "print(acc)\n",
    "print(f1)"
   ]
  },
  {
   "cell_type": "markdown",
   "id": "2c0a240a-0014-4cbc-b84b-38d0134ccbea",
   "metadata": {},
   "source": [
    "# 모델 예측값 제출"
   ]
  },
  {
   "cell_type": "code",
   "execution_count": null,
   "id": "70202a15-aa0b-41ea-bd81-ede9ad7595c5",
   "metadata": {},
   "outputs": [],
   "source": [
    "# 그냥 분류 자체를 실시할 경우 = > 정수"
   ]
  },
  {
   "cell_type": "code",
   "execution_count": 29,
   "id": "f8a5bf6b-542c-4966-9305-0a941fc34d7e",
   "metadata": {},
   "outputs": [
    {
     "name": "stdout",
     "output_type": "stream",
     "text": [
      "[1 1 0 1 2]\n"
     ]
    }
   ],
   "source": [
    "y_result = model.predict(x_test)\n",
    "print(y_result[:5])"
   ]
  },
  {
   "cell_type": "code",
   "execution_count": 30,
   "id": "feb30df9-1156-41fa-99d7-384011f157d8",
   "metadata": {},
   "outputs": [],
   "source": [
    "pd.DataFrame({'result' : y_result}).to_csv('00700.csv', index =False)"
   ]
  },
  {
   "cell_type": "code",
   "execution_count": null,
   "id": "dc8bdcc8-66c3-435d-b4f0-d9fab26dd66d",
   "metadata": {},
   "outputs": [],
   "source": [
    "# 분류가 될 확률을 구할경우 = > 실수 =확률"
   ]
  },
  {
   "cell_type": "code",
   "execution_count": 31,
   "id": "3f419acf-43d8-48c4-bb53-356513afd444",
   "metadata": {},
   "outputs": [
    {
     "name": "stdout",
     "output_type": "stream",
     "text": [
      "[[0.   0.98 0.02]\n",
      " [0.01 0.98 0.01]\n",
      " [0.99 0.01 0.  ]\n",
      " [0.18 0.82 0.  ]\n",
      " [0.01 0.03 0.96]]\n"
     ]
    }
   ],
   "source": [
    "y_proba_result = model.predict_proba(x_test)\n",
    "print(y_proba_result[:5])"
   ]
  },
  {
   "cell_type": "code",
   "execution_count": null,
   "id": "55cf6236-b91a-4cca-be4c-f136d5b54852",
   "metadata": {},
   "outputs": [],
   "source": [
    "pd.DataFrame({'result' : y_result, 'prob_0' : y_proba_result[:, 0],}"
   ]
  }
 ],
 "metadata": {
  "kernelspec": {
   "display_name": "Python 3 (ipykernel)",
   "language": "python",
   "name": "python3"
  },
  "language_info": {
   "codemirror_mode": {
    "name": "ipython",
    "version": 3
   },
   "file_extension": ".py",
   "mimetype": "text/x-python",
   "name": "python",
   "nbconvert_exporter": "python",
   "pygments_lexer": "ipython3",
   "version": "3.9.13"
  }
 },
 "nbformat": 4,
 "nbformat_minor": 5
}
