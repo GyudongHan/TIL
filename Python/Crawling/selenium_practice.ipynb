{
 "cells": [
  {
   "cell_type": "code",
   "execution_count": 1,
   "id": "8fa30976-2ec5-4e26-b070-761ebeb81357",
   "metadata": {},
   "outputs": [
    {
     "name": "stdout",
     "output_type": "stream",
     "text": [
      "4.11.0\n"
     ]
    }
   ],
   "source": [
    "import selenium\n",
    "print(selenium.__version__)\n",
    "# 4.10.0"
   ]
  },
  {
   "cell_type": "code",
   "execution_count": 2,
   "id": "cf07b1e2-f526-485a-a606-2ff16384276d",
   "metadata": {},
   "outputs": [
    {
     "name": "stdout",
     "output_type": "stream",
     "text": [
      "driver/\n",
      "    windows_102/\n",
      "        chromedriver.exe\n",
      "        LICENSE.chromedriver\n"
     ]
    }
   ],
   "source": [
    "import os\n",
    "\n",
    "def list_files(startpath):\n",
    "    for root, dirs, files in os.walk(startpath):\n",
    "        level = root.replace(startpath, '').count(os.sep)\n",
    "        indent = ' ' * 4 * (level)\n",
    "        print('{}{}/'.format(indent, os.path.basename(root)))\n",
    "        subindent = ' ' * 4 * (level + 1)\n",
    "        for f in files:\n",
    "            print('{}{}'.format(subindent, f))\n",
    "\n",
    "list_files(\"driver\")"
   ]
  },
  {
   "cell_type": "code",
   "execution_count": 3,
   "id": "7e76f183-358e-426d-aab8-53116752b4e7",
   "metadata": {},
   "outputs": [],
   "source": [
    "from selenium import webdriver\n",
    "from selenium.webdriver.chrome.service import Service\n",
    "\n",
    "CHROME_DRIVER_PATH = './driver/windows_102/chromedriver.exe'\n",
    "service = Service(executable_path=CHROME_DRIVER_PATH)\n",
    "options = webdriver.ChromeOptions()\n",
    "driver = webdriver.Chrome(service=service, options=options)\n",
    "\n",
    "#크롬 드라이버에 url 주소 넣고 실행\n",
    "driver.get('https://www.naver.com/')"
   ]
  },
  {
   "cell_type": "code",
   "execution_count": 4,
   "id": "d4cd5ff4-11b5-4566-a1be-97729be2d5b4",
   "metadata": {},
   "outputs": [],
   "source": [
    "driver.quit()"
   ]
  },
  {
   "cell_type": "code",
   "execution_count": 37,
   "id": "bea38a53-d3a4-4b0c-a189-64a601aefa6c",
   "metadata": {},
   "outputs": [
    {
     "name": "stdout",
     "output_type": "stream",
     "text": [
      " 찾은 이미지 개수: 48\n"
     ]
    }
   ],
   "source": [
    "from selenium import webdriver\n",
    "from selenium.webdriver.chrome.service import Service as ChromeService\n",
    "from webdriver_manager.chrome import ChromeDriverManager\n",
    "driver = webdriver.Chrome(service=ChromeService(ChromeDriverManager().install()))\n",
    "from selenium.webdriver.common.keys import Keys\n",
    "from selenium.webdriver.common.by import By\n",
    "import time\n",
    "\n",
    "URL = 'https://www.google.co.kr/imghp'\n",
    "driver.get(url=URL)\n",
    "\n",
    "elem = driver.find_element(By.CSS_SELECTOR, \"body > div.L3eUgb > div.o3j99.ikrT4e.om7nvf > form > div:nth-child(1) > div.A8SBwf > div.RNNXgb > div > div.a4bIc > textarea.gLFyf\")\n",
    "elem.send_keys(\"보라카이\")\n",
    "elem.send_keys(Keys.RETURN)\n",
    "\n",
    "elem = driver.find_element(By. TAG_NAME, \"body\")\n",
    "for i in range(70):\n",
    "    elem.send_keys(Keys.PAGE_DOWN)\n",
    "    time.sleep(0.1)\n",
    "\n",
    "try:\n",
    "    driver.find_element(By.CSS_SELECTOR, \"#islmp > div > div > div > div > div.C5Hr4 > div.K414Oe > div.FAGjZe > input\").click()\n",
    "    for i in range(80):\n",
    "        elem.send_keys(Keys.PAGE_DOWN)\n",
    "        time.sleep(0.1)\n",
    "except:\n",
    "    pass\n",
    "\n",
    "links=[] \n",
    "images = driver.find_elements(By.CSS_SELECTOR, \"#islrg > div.islrc > div > a.wXeWr.islib.nfEiy > div.bRMDJf.islir > img\")\n",
    "# images2 = driver.find_elements(By.CSS_SELECTOR, \"#islrg > div.islrc > div > div > a.wXeWr.islib.nfEiy > div.bRMDJf.islir > img\")\n",
    "# 결과더보기 이후는 경로가 약간 다름 div와 a태그 사이에 또다른 div 존재\n",
    "\n",
    "for image in images:\n",
    "    if image.get_attribute('src') is not None:\n",
    "        links.append(image.get_attribute('src'))\n",
    "\n",
    "# for image in images2:\n",
    "#     if image.get_attribute('src') is not None:\n",
    "#         links.append(image.get_attribute('src'))\n",
    "\n",
    "print(' 찾은 이미지 개수:',len(links))\n"
   ]
  },
  {
   "cell_type": "code",
   "execution_count": 30,
   "id": "5d151e66-84f2-4c00-b553-4962d5bd7b51",
   "metadata": {},
   "outputs": [],
   "source": [
    "driver.quit()"
   ]
  },
  {
   "cell_type": "code",
   "execution_count": 38,
   "id": "7de2f539-af10-4a9f-819f-7de1332af58a",
   "metadata": {},
   "outputs": [
    {
     "name": "stdout",
     "output_type": "stream",
     "text": [
      "다운로드 완료하였습니다.\n"
     ]
    }
   ],
   "source": [
    "import urllib.request\n",
    "\n",
    "for k, i in enumerate(links):\n",
    "    url = i\n",
    "    urllib.request.urlretrieve(url, \".\\\\사진다운로드\\\\\"+str(k)+\".jpg\")\n",
    "\n",
    "print('다운로드 완료하였습니다.')\n",
    "driver.quit()"
   ]
  },
  {
   "cell_type": "code",
   "execution_count": null,
   "id": "403bb414-47ff-418c-ae15-205f9561dce7",
   "metadata": {},
   "outputs": [],
   "source": []
  },
  {
   "cell_type": "code",
   "execution_count": 55,
   "id": "baa09f8b-a0e4-4152-8de6-d111bf862b58",
   "metadata": {},
   "outputs": [
    {
     "name": "stdout",
     "output_type": "stream",
     "text": [
      "['잼버리 K-팝 콘서트에', '태풍 카눈 위기경보', '소용없어 거짓말', '세계 고양이의 날', '우아한 제국', '류현진', '초전도체', '이재명 살해 테러', '좀비버스', '권일용']\n"
     ]
    }
   ],
   "source": [
    "from selenium import webdriver\n",
    "from selenium.webdriver.chrome.service import Service as ChromeService\n",
    "from webdriver_manager.chrome import ChromeDriverManager\n",
    "from selenium.webdriver.common.keys import Keys\n",
    "from selenium.webdriver.common.by import By\n",
    "import time\n",
    "\n",
    "driver = webdriver.Chrome(service=ChromeService(ChromeDriverManager().install()))\n",
    "\n",
    "\n",
    "URL = 'https://signal.bz/news'\n",
    "driver.get(url=URL)\n",
    "results = driver.find_elements(By.CSS_SELECTOR, \"#app > div > main > div > section > div > section > section:nth-child(2) > div:nth-child(2) > div > div > div > a > span.rank-text\")\n",
    "results\n",
    "\n",
    "keyword_list = []\n",
    "for keyword in results:\n",
    "    keyword_list.append(keyword.text)\n",
    "    \n",
    "print(keyword_list)\n",
    "\n",
    "driver.quit()"
   ]
  },
  {
   "cell_type": "code",
   "execution_count": null,
   "id": "9d34d2b0-66c4-4e4d-a8c4-c75cabee6b9a",
   "metadata": {},
   "outputs": [],
   "source": []
  },
  {
   "cell_type": "code",
   "execution_count": 9,
   "id": "bb49e405-1da5-4998-ad69-dbb704297eec",
   "metadata": {},
   "outputs": [
    {
     "name": "stdout",
     "output_type": "stream",
     "text": [
      "['1_태풍 카눈 북상에', '2_주호민 변호사 사임', '3_JMS 경윤 논란', '4_잼버리 대원들 8개', '5_류현진 4이닝 노히트', '6_사고 위장 부사관', '7_덱스 일정 중', '8_성일종', '9_김은경', '10_부산 한 고등학교서']\n"
     ]
    }
   ],
   "source": [
    "from selenium import webdriver\n",
    "from selenium.webdriver.chrome.service import Service as ChromeService\n",
    "from webdriver_manager.chrome import ChromeDriverManager\n",
    "from selenium.webdriver.common.keys import Keys\n",
    "from selenium.webdriver.common.by import By\n",
    "import time\n",
    "\n",
    "driver = webdriver.Chrome(service=ChromeService(ChromeDriverManager().install()))\n",
    "nate_list_1st = []\n",
    "nate_list_2nd = []\n",
    "for i in range(2):\n",
    "    URL='https://www.nate.com'\n",
    "    driver.get(url=URL) \n",
    "    rank_results = driver.find_elements(By.CSS_SELECTOR,'#olLiveIssueKeyword > li > span.num_rank')\n",
    "    nate_results = driver.find_elements(By.CSS_SELECTOR,'#olLiveIssueKeyword > li > a > span.txt_rank')\n",
    "    for rank, keyword in zip(rank_results, nate_results):\n",
    "        if i == 0: # 첫번째 화면\n",
    "            nate_list_1st.append(f'{rank.text}_{keyword.text}')\n",
    "        elif i == 1: # 두번째 화면\n",
    "            nate_list_2nd.append(f'{rank.text}_{keyword.text}')\n",
    "    time.sleep(8)\n",
    "    driver.refresh() # driver 재시동\n",
    "result = nate_list_1st + nate_list_2nd\n",
    "\n",
    "print(result)\n",
    "\n",
    "driver.quit()"
   ]
  },
  {
   "cell_type": "code",
   "execution_count": null,
   "id": "7a579900-63b9-4584-bdce-f7021ef1d28f",
   "metadata": {},
   "outputs": [],
   "source": []
  },
  {
   "cell_type": "code",
   "execution_count": 10,
   "id": "5b6015a1-b038-4357-be31-5d737e614a1e",
   "metadata": {},
   "outputs": [
    {
     "name": "stdout",
     "output_type": "stream",
     "text": [
      "[티몬] 바세린 퓨어 젤리 50ml 5개 외 (5,520원/무료)\n",
      "https://www.ppomppu.co.kr/zboard/view.php?id=ppomppu&page=1&divpage=80&no=477026\n",
      "[지마켓] LG 코드제로 오브제컬렉션 A9S 무선청소기 AX9874TPE (951,000원/무료)\n",
      "https://www.ppomppu.co.kr/zboard/view.php?id=ppomppu&page=1&divpage=80&no=477025\n",
      "[11번가]바른생활 아트컬렉션칫솔 36개 (12,500원/무료배송)\n",
      "https://www.ppomppu.co.kr/zboard/view.php?id=ppomppu&page=1&divpage=80&no=477024\n",
      "[지마켓] 송탄 치즈부대찌개 500g x 3팩 + 라면사리 3개 (13,280원/무료) 카드할인시 11,960원\n",
      "https://www.ppomppu.co.kr/zboard/view.php?id=ppomppu&page=1&divpage=80&no=477023\n",
      "[ssg] 슈퍼플라워 SF-850F14XG LEADEX VII GOLD ATX 3.0 ( 172000 / 3000 )\n",
      "https://www.ppomppu.co.kr/zboard/view.php?id=ppomppu&page=1&divpage=80&no=477022\n",
      "[LF몰]베른 VST 플랫 테이블 L 슬림 폴딩 접이식 (144,490원/무료)\n",
      "https://www.ppomppu.co.kr/zboard/view.php?id=ppomppu&page=1&divpage=80&no=477021\n",
      "[G마켓]1+1 아쿠아 드라이 방수백 5L 비치 물놀이 수영 가방 (+사은품 휴대폰방수팩2개) (12,780원/무배)\n",
      "https://www.ppomppu.co.kr/zboard/view.php?id=ppomppu&page=1&divpage=80&no=477020\n",
      "[KFC 매장] 말복 버켓 블랙라벨치킨 8+치즈볼 3개 (16900/수령시 무료)\n",
      "https://www.ppomppu.co.kr/zboard/view.php?id=ppomppu&page=1&divpage=80&no=477019\n",
      "[옥션] 삼성 비스포크 무풍 에어컨 윈도우핏 화이트(AW06C7155WWAZ) (759,430/무)\n",
      "https://www.ppomppu.co.kr/zboard/view.php?id=ppomppu&page=1&divpage=80&no=477018\n",
      "[11번가] (1,299,600원) 삼성전자 비스포크 냉장고 RF84C906B4W 875리터 매트 멜로우 화이트\n",
      "https://www.ppomppu.co.kr/zboard/view.php?id=ppomppu&page=1&divpage=80&no=477017\n",
      "[네이버] 비비고 사골곰탕 500g 18개(12,840원/무료)\n",
      "https://www.ppomppu.co.kr/zboard/view.php?id=ppomppu&page=1&divpage=80&no=477016\n",
      "[네이버] 테팔 원픽 냄비팬 22cm (30,800원/무료) 쿠폰 적용시 25,460원\n",
      "https://www.ppomppu.co.kr/zboard/view.php?id=ppomppu&page=1&divpage=80&no=477015\n",
      "[티몬] 정다운 허브/마늘 훈제오리 200g 8팩 (28,400원/무배)\n",
      "https://www.ppomppu.co.kr/zboard/view.php?id=ppomppu&page=1&divpage=80&no=477014\n",
      "[지마켓] 하기스 매직썸머 팬티 4-6단계 6팩(113,850원/무배)\n",
      "https://www.ppomppu.co.kr/zboard/view.php?id=ppomppu&page=1&divpage=80&no=477013\n",
      "[11번가] 다이비프로 풀페이스 스노쿨링마스크 (19,900/무료)\n",
      "https://www.ppomppu.co.kr/zboard/view.php?id=ppomppu&page=1&divpage=80&no=477012\n",
      "[롯데ON] 한우 1+ 차돌박이 냉장 300g 1팩 (9,560원, 배송비 4,000원)\n",
      "https://www.ppomppu.co.kr/zboard/view.php?id=ppomppu&page=1&divpage=80&no=477011\n",
      "[쿠팡] 크리넥스 핸드타올 총 2000매 + 전용용기 1세트 (17820/무료)\n",
      "https://www.ppomppu.co.kr/zboard/view.php?id=ppomppu&page=1&divpage=80&no=477009\n",
      "[하이버] 팔꾸이 팔당 오징어 볶음 470g (9,900원/무료)\n",
      "https://www.ppomppu.co.kr/zboard/view.php?id=ppomppu&page=1&divpage=80&no=477008\n",
      "[G마켓] 도브 비누 화이트바 135g 12개 (14,030원/무료) 삼성/하나/우리 12,630원\n",
      "https://www.ppomppu.co.kr/zboard/view.php?id=ppomppu&page=1&divpage=80&no=477007\n",
      "[티몬] 스너글 실내건조 무드테라피 섬유유연제 4L+2.6L+견본100m (27,920원/무료)\n",
      "https://www.ppomppu.co.kr/zboard/view.php?id=ppomppu&page=1&divpage=80&no=477006\n",
      "[11번가 LIVE 17:00~18:30] 갤럭시 Z플립5ㅣZ폴드5 자급제 마지막LIVE방송! 파격혜택 (전카드사할인까지)\n",
      "https://www.ppomppu.co.kr/zboard/view.php?id=pmarket&&no=286842\n",
      "[G마켓] 갤럭시 Z플립5ㅣZ폴드5 자급제 마지막사전판매 LIVE [최대 3만원 신세계 상품권 + 경품이벤트]\n",
      "https://www.ppomppu.co.kr/zboard/view.php?id=pmarket&&no=286843\n",
      "위메프 디지털위크 LG시네빔 PF610P 59만원 전제품 할인혜택 역대급 특가 놓치지마세요! 오늘의집 소니XLG시네빔 콜라보혜택\n",
      "https://www.ppomppu.co.kr/zboard/view.php?id=pmarket&&no=286853\n",
      "[위메프] 은나노스텝 1+3 (500+300+300+300)ml 고급다용도 세정제 (7800원/무료)\n",
      "https://www.ppomppu.co.kr/zboard/view.php?id=pmarket&&no=286848\n",
      "집으로 ON 아이라이킷 입점기념 특가\n",
      "https://www.ppomppu.co.kr/zboard/view.php?id=pmarket&&no=286846\n",
      "[롯데홈쇼핑] LG그램 15인치 노트북 브랜드위크 단독 할인 타임특가 찬스!\n",
      "https://www.ppomppu.co.kr/zboard/view.php?id=pmarket&&no=286851\n",
      "오늘의집xLG시네빔 브랜드위크 역대급 할인 쿠폰+카드+사은품 소니콜라보 혜택까지 놓치지마세요!\n",
      "https://www.ppomppu.co.kr/zboard/view.php?id=pmarket&&no=286841\n",
      "[이벤트] 쇼핑포럼 매일 상품 공유 이벤트 2탄, 티몬! (~8/15)\n",
      "https://www.ppomppu.co.kr/zboard/view.php?id=social&no=37708\n",
      "신지모루 핸드폰 카드케이스 파우치 1+1_카드/지갑/지갑형/슬림/사원증/교통카드/보관/수납/전기종/아이폰/갤럭시 (3,900원)\n",
      "https://www.ppomppu.co.kr/hotdeal/?no=28226411\n",
      "에어프라이어 핫딜 없을까요?\n",
      "https://www.ppomppu.co.kr/zboard/view.php?id=social&no=37787\n",
      "[옥션] 훈제오리 180g 6팩+ 1팩 무료증정 배송비무료\n",
      "https://www.ppomppu.co.kr/zboard/view.php?id=social&no=37786\n",
      "펩시제로슈거 무라벨 라임 300ml 20펫 (12,720 / 무배)\n",
      "https://www.ppomppu.co.kr/zboard/view.php?id=social&no=37785\n"
     ]
    }
   ],
   "source": [
    "from selenium import webdriver\n",
    "from selenium.webdriver.chrome.service import Service as ChromeService\n",
    "from webdriver_manager.chrome import ChromeDriverManager\n",
    "from selenium.webdriver.common.keys import Keys\n",
    "from selenium.webdriver.common.by import By\n",
    "import time\n",
    "\n",
    "driver = webdriver.Chrome(service=ChromeService(ChromeDriverManager().install()))\n",
    "\n",
    "URL= 'https://www.ppomppu.co.kr/zboard/zboard.php?id=ppomppu'\n",
    "driver.get(url=URL)\n",
    "\n",
    "titles = driver.find_elements(By.CSS_SELECTOR, '#revolution_main_table > tbody > tr > td:nth-child(3) > table > tbody > tr > td:nth-child(2) > div > a > font')\n",
    "urls = driver.find_elements(By.CSS_SELECTOR, '#revolution_main_table > tbody > tr > td:nth-child(3) > table > tbody > tr > td:nth-child(2) > div > a')\n",
    "\n",
    "title_lists = []\n",
    "url_lists = []\n",
    "for i in range(len(titles)):\n",
    "    print(titles[i].text)\n",
    "    title_lists.append(titles[i].text)\n",
    "    print(urls[i].get_attribute('href'))\n",
    "    url_lists.append(urls[i].get_attribute('href'))"
   ]
  },
  {
   "cell_type": "code",
   "execution_count": 11,
   "id": "97be7277-3b7a-41cd-bcd2-4b304d764915",
   "metadata": {},
   "outputs": [],
   "source": [
    "driver.quit()"
   ]
  },
  {
   "cell_type": "code",
   "execution_count": null,
   "id": "9650fa18-50f1-497e-bf77-4077bc93047e",
   "metadata": {},
   "outputs": [],
   "source": []
  }
 ],
 "metadata": {
  "kernelspec": {
   "display_name": "Python 3 (ipykernel)",
   "language": "python",
   "name": "python3"
  },
  "language_info": {
   "codemirror_mode": {
    "name": "ipython",
    "version": 3
   },
   "file_extension": ".py",
   "mimetype": "text/x-python",
   "name": "python",
   "nbconvert_exporter": "python",
   "pygments_lexer": "ipython3",
   "version": "3.9.13"
  }
 },
 "nbformat": 4,
 "nbformat_minor": 5
}
