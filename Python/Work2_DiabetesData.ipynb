{
 "cells": [
  {
   "cell_type": "code",
   "execution_count": 1,
   "id": "5935dceb-3545-492b-b8f6-9d106f4663c7",
   "metadata": {},
   "outputs": [],
   "source": [
    "import pandas as pd\n",
    "import numpy as np\n",
    "\n",
    "# 데이터 세팅하기 or 불러오기\n",
    "from sklearn.datasets import load_diabetes\n",
    "diabetes = load_diabetes()\n",
    "x = pd.DataFrame(diabetes.data, columns = diabetes.feature_names)\n",
    "y = pd.DataFrame(diabetes.target)\n"
   ]
  },
  {
   "cell_type": "code",
   "execution_count": 2,
   "id": "7c27fdb6-e4dd-41c0-b3bb-6bc024671ce9",
   "metadata": {},
   "outputs": [
    {
     "name": "stdout",
     "output_type": "stream",
     "text": [
      "(353, 11) (353, 2) (89, 11) (89, 1)\n"
     ]
    }
   ],
   "source": [
    "# 실기 시험 데이터 셋으로 세팅하기\n",
    "\n",
    "from sklearn.model_selection import train_test_split\n",
    "x_train, x_test, y_train, y_test = train_test_split(x,y, test_size = 0.2, random_state=23)\n",
    "\n",
    "x_train = pd.DataFrame(x_train.reset_index())\n",
    "x_test = pd.DataFrame(x_test.reset_index())\n",
    "y_train = pd.DataFrame(y_train.reset_index())\n",
    "\n",
    "x_test.rename(columns={'index' : 'cust_id'}, inplace =True)\n",
    "x_train.rename(columns={'index' : 'cust_id'}, inplace =True)\n",
    "y_train.columns = ['cust_id', 'target']\n",
    "\n",
    "print(x_train.shape, y_train.shape, x_test.shape, y_test.shape)"
   ]
  },
  {
   "cell_type": "code",
   "execution_count": 3,
   "id": "a050f175-b804-43ba-a317-61e64a752bde",
   "metadata": {},
   "outputs": [
    {
     "data": {
      "text/html": [
       "<div>\n",
       "<style scoped>\n",
       "    .dataframe tbody tr th:only-of-type {\n",
       "        vertical-align: middle;\n",
       "    }\n",
       "\n",
       "    .dataframe tbody tr th {\n",
       "        vertical-align: top;\n",
       "    }\n",
       "\n",
       "    .dataframe thead th {\n",
       "        text-align: right;\n",
       "    }\n",
       "</style>\n",
       "<table border=\"1\" class=\"dataframe\">\n",
       "  <thead>\n",
       "    <tr style=\"text-align: right;\">\n",
       "      <th></th>\n",
       "      <th>cust_id</th>\n",
       "      <th>age</th>\n",
       "      <th>sex</th>\n",
       "      <th>bmi</th>\n",
       "      <th>bp</th>\n",
       "      <th>s1</th>\n",
       "      <th>s2</th>\n",
       "      <th>s3</th>\n",
       "      <th>s4</th>\n",
       "      <th>s5</th>\n",
       "      <th>s6</th>\n",
       "    </tr>\n",
       "  </thead>\n",
       "  <tbody>\n",
       "    <tr>\n",
       "      <th>0</th>\n",
       "      <td>2</td>\n",
       "      <td>0.085299</td>\n",
       "      <td>0.050680</td>\n",
       "      <td>0.044451</td>\n",
       "      <td>-0.005670</td>\n",
       "      <td>-0.045599</td>\n",
       "      <td>-0.034194</td>\n",
       "      <td>-0.032356</td>\n",
       "      <td>-0.002592</td>\n",
       "      <td>0.002861</td>\n",
       "      <td>-0.025930</td>\n",
       "    </tr>\n",
       "    <tr>\n",
       "      <th>1</th>\n",
       "      <td>13</td>\n",
       "      <td>0.005383</td>\n",
       "      <td>0.050680</td>\n",
       "      <td>-0.001895</td>\n",
       "      <td>0.008101</td>\n",
       "      <td>-0.004321</td>\n",
       "      <td>-0.015719</td>\n",
       "      <td>-0.002903</td>\n",
       "      <td>-0.002592</td>\n",
       "      <td>0.038394</td>\n",
       "      <td>-0.013504</td>\n",
       "    </tr>\n",
       "    <tr>\n",
       "      <th>2</th>\n",
       "      <td>325</td>\n",
       "      <td>-0.001882</td>\n",
       "      <td>-0.044642</td>\n",
       "      <td>0.054152</td>\n",
       "      <td>-0.066506</td>\n",
       "      <td>0.072732</td>\n",
       "      <td>0.056619</td>\n",
       "      <td>-0.043401</td>\n",
       "      <td>0.084863</td>\n",
       "      <td>0.084492</td>\n",
       "      <td>0.048628</td>\n",
       "    </tr>\n",
       "    <tr>\n",
       "      <th>3</th>\n",
       "      <td>319</td>\n",
       "      <td>0.019913</td>\n",
       "      <td>-0.044642</td>\n",
       "      <td>0.004572</td>\n",
       "      <td>0.045972</td>\n",
       "      <td>-0.018080</td>\n",
       "      <td>-0.054549</td>\n",
       "      <td>0.063367</td>\n",
       "      <td>-0.039493</td>\n",
       "      <td>0.028658</td>\n",
       "      <td>0.061054</td>\n",
       "    </tr>\n",
       "    <tr>\n",
       "      <th>4</th>\n",
       "      <td>148</td>\n",
       "      <td>-0.060003</td>\n",
       "      <td>0.050680</td>\n",
       "      <td>0.015350</td>\n",
       "      <td>-0.019442</td>\n",
       "      <td>0.036958</td>\n",
       "      <td>0.048164</td>\n",
       "      <td>0.019187</td>\n",
       "      <td>-0.002592</td>\n",
       "      <td>-0.030748</td>\n",
       "      <td>-0.001078</td>\n",
       "    </tr>\n",
       "  </tbody>\n",
       "</table>\n",
       "</div>"
      ],
      "text/plain": [
       "   cust_id       age       sex       bmi        bp        s1        s2  \\\n",
       "0        2  0.085299  0.050680  0.044451 -0.005670 -0.045599 -0.034194   \n",
       "1       13  0.005383  0.050680 -0.001895  0.008101 -0.004321 -0.015719   \n",
       "2      325 -0.001882 -0.044642  0.054152 -0.066506  0.072732  0.056619   \n",
       "3      319  0.019913 -0.044642  0.004572  0.045972 -0.018080 -0.054549   \n",
       "4      148 -0.060003  0.050680  0.015350 -0.019442  0.036958  0.048164   \n",
       "\n",
       "         s3        s4        s5        s6  \n",
       "0 -0.032356 -0.002592  0.002861 -0.025930  \n",
       "1 -0.002903 -0.002592  0.038394 -0.013504  \n",
       "2 -0.043401  0.084863  0.084492  0.048628  \n",
       "3  0.063367 -0.039493  0.028658  0.061054  \n",
       "4  0.019187 -0.002592 -0.030748 -0.001078  "
      ]
     },
     "execution_count": 3,
     "metadata": {},
     "output_type": "execute_result"
    }
   ],
   "source": [
    "x_train.head()"
   ]
  },
  {
   "cell_type": "code",
   "execution_count": 4,
   "id": "2334d1bf-c010-48fe-a627-c66a59138064",
   "metadata": {
    "scrolled": true
   },
   "outputs": [
    {
     "name": "stdout",
     "output_type": "stream",
     "text": [
      "<class 'pandas.core.frame.DataFrame'>\n",
      "RangeIndex: 353 entries, 0 to 352\n",
      "Data columns (total 11 columns):\n",
      " #   Column   Non-Null Count  Dtype  \n",
      "---  ------   --------------  -----  \n",
      " 0   cust_id  353 non-null    int64  \n",
      " 1   age      353 non-null    float64\n",
      " 2   sex      353 non-null    float64\n",
      " 3   bmi      353 non-null    float64\n",
      " 4   bp       353 non-null    float64\n",
      " 5   s1       353 non-null    float64\n",
      " 6   s2       353 non-null    float64\n",
      " 7   s3       353 non-null    float64\n",
      " 8   s4       353 non-null    float64\n",
      " 9   s5       353 non-null    float64\n",
      " 10  s6       353 non-null    float64\n",
      "dtypes: float64(10), int64(1)\n",
      "memory usage: 30.5 KB\n"
     ]
    }
   ],
   "source": [
    "x_train.info()"
   ]
  },
  {
   "cell_type": "code",
   "execution_count": 5,
   "id": "25322dff-6566-4514-b590-78a970c54a70",
   "metadata": {},
   "outputs": [
    {
     "name": "stdout",
     "output_type": "stream",
     "text": [
      "<class 'pandas.core.frame.DataFrame'>\n",
      "RangeIndex: 353 entries, 0 to 352\n",
      "Data columns (total 2 columns):\n",
      " #   Column   Non-Null Count  Dtype  \n",
      "---  ------   --------------  -----  \n",
      " 0   cust_id  353 non-null    int64  \n",
      " 1   target   353 non-null    float64\n",
      "dtypes: float64(1), int64(1)\n",
      "memory usage: 5.6 KB\n"
     ]
    }
   ],
   "source": [
    "y_train.info()"
   ]
  },
  {
   "cell_type": "code",
   "execution_count": 6,
   "id": "8e2e6037-7d79-4481-b099-624fb1177096",
   "metadata": {},
   "outputs": [
    {
     "name": "stdout",
     "output_type": "stream",
     "text": [
      "<class 'pandas.core.frame.DataFrame'>\n",
      "RangeIndex: 89 entries, 0 to 88\n",
      "Data columns (total 11 columns):\n",
      " #   Column   Non-Null Count  Dtype  \n",
      "---  ------   --------------  -----  \n",
      " 0   cust_id  89 non-null     int64  \n",
      " 1   age      89 non-null     float64\n",
      " 2   sex      89 non-null     float64\n",
      " 3   bmi      89 non-null     float64\n",
      " 4   bp       89 non-null     float64\n",
      " 5   s1       89 non-null     float64\n",
      " 6   s2       89 non-null     float64\n",
      " 7   s3       89 non-null     float64\n",
      " 8   s4       89 non-null     float64\n",
      " 9   s5       89 non-null     float64\n",
      " 10  s6       89 non-null     float64\n",
      "dtypes: float64(10), int64(1)\n",
      "memory usage: 7.8 KB\n"
     ]
    }
   ],
   "source": [
    "x_test.info()"
   ]
  },
  {
   "cell_type": "code",
   "execution_count": 7,
   "id": "a7235fc8-9cb3-4e16-9730-49cf3f28e464",
   "metadata": {},
   "outputs": [
    {
     "name": "stdout",
     "output_type": "stream",
     "text": [
      "          cust_id      target\n",
      "count  353.000000  353.000000\n",
      "mean   219.832861  147.784703\n",
      "std    130.254004   76.616141\n",
      "min      0.000000   31.000000\n",
      "25%    104.000000   83.000000\n",
      "50%    221.000000  138.000000\n",
      "75%    331.000000  200.000000\n",
      "max    441.000000  346.000000\n"
     ]
    }
   ],
   "source": [
    "# y_train.value_counts()\n",
    "print(y_train.describe())"
   ]
  },
  {
   "cell_type": "code",
   "execution_count": 8,
   "id": "fb44418a-e344-40f3-b045-3b1f188c9129",
   "metadata": {
    "scrolled": true
   },
   "outputs": [
    {
     "name": "stdout",
     "output_type": "stream",
     "text": [
      "          cust_id         age         sex         bmi          bp          s1  \\\n",
      "count  353.000000  353.000000  353.000000  353.000000  353.000000  353.000000   \n",
      "mean   219.832861   -0.002386   -0.000626   -0.001895   -0.001314   -0.000587   \n",
      "std    130.254004    0.048224    0.047589    0.046356    0.047170    0.047013   \n",
      "min      0.000000   -0.107226   -0.044642   -0.090275   -0.112399   -0.126781   \n",
      "25%    104.000000   -0.041840   -0.044642   -0.035307   -0.036656   -0.033216   \n",
      "50%    221.000000    0.001751   -0.044642   -0.008362   -0.005670   -0.004321   \n",
      "75%    331.000000    0.034443    0.050680    0.028284    0.032201    0.027326   \n",
      "max    441.000000    0.110727    0.050680    0.160855    0.132044    0.153914   \n",
      "\n",
      "               s2          s3          s4          s5          s6  \n",
      "count  353.000000  353.000000  353.000000  353.000000  353.000000  \n",
      "mean    -0.000518    0.002860   -0.002945   -0.002949   -0.002861  \n",
      "std      0.047561    0.048011    0.046987    0.046612    0.046354  \n",
      "min     -0.115613   -0.102307   -0.076395   -0.101640   -0.129483  \n",
      "25%     -0.029497   -0.032356   -0.039493   -0.035816   -0.034215  \n",
      "50%     -0.004445   -0.002903   -0.002592   -0.006081   -0.001078  \n",
      "75%      0.027183    0.033914    0.034309    0.028020    0.023775  \n",
      "max      0.155887    0.181179    0.155345    0.133597    0.135612  \n",
      "          cust_id        age        sex        bmi         bp         s1  \\\n",
      "count   89.000000  89.000000  89.000000  89.000000  89.000000  89.000000   \n",
      "mean   223.146067   0.009465   0.002484   0.007515   0.005212   0.002327   \n",
      "std    117.889639   0.044137   0.047928   0.051930   0.049286   0.050158   \n",
      "min     14.000000  -0.107226  -0.044642  -0.080575  -0.084856  -0.104765   \n",
      "25%    122.000000  -0.016412  -0.044642  -0.027762  -0.036656  -0.034592   \n",
      "50%    218.000000   0.012648  -0.044642  -0.000817   0.000079  -0.000193   \n",
      "75%    328.000000   0.041708   0.050680   0.045529   0.045972   0.035582   \n",
      "max    413.000000   0.110727   0.050680   0.170555   0.104501   0.152538   \n",
      "\n",
      "              s2         s3         s4         s5         s6  \n",
      "count  89.000000  89.000000  89.000000  89.000000  89.000000  \n",
      "mean    0.002053  -0.011342   0.011679   0.011696   0.011349  \n",
      "std     0.048065   0.044503   0.048579   0.049997   0.051048  \n",
      "min    -0.100895  -0.080217  -0.076395  -0.126097  -0.137767  \n",
      "25%    -0.032942  -0.039719  -0.039493  -0.027129  -0.013504  \n",
      "50%    -0.001314  -0.017629  -0.002592   0.012551   0.015491  \n",
      "75%     0.035638   0.011824   0.034309   0.045604   0.036201  \n",
      "max     0.198788   0.177497   0.185234   0.132376   0.135612  \n"
     ]
    }
   ],
   "source": [
    "print(x_train.describe())\n",
    "print(x_test.describe())"
   ]
  },
  {
   "cell_type": "markdown",
   "id": "b2915530-2826-455c-8540-70a7453558ad",
   "metadata": {},
   "source": [
    "# 결측치 / 이상치 / 변수처리"
   ]
  },
  {
   "cell_type": "code",
   "execution_count": 9,
   "id": "c338dc38-274a-4cbe-adc7-7b148279c80a",
   "metadata": {
    "scrolled": true
   },
   "outputs": [
    {
     "name": "stdout",
     "output_type": "stream",
     "text": [
      "cust_id    0\n",
      "age        0\n",
      "sex        0\n",
      "bmi        0\n",
      "bp         0\n",
      "s1         0\n",
      "s2         0\n",
      "s3         0\n",
      "s4         0\n",
      "s5         0\n",
      "s6         0\n",
      "dtype: int64\n",
      "cust_id    0\n",
      "target     0\n",
      "dtype: int64\n",
      "cust_id    0\n",
      "age        0\n",
      "sex        0\n",
      "bmi        0\n",
      "bp         0\n",
      "s1         0\n",
      "s2         0\n",
      "s3         0\n",
      "s4         0\n",
      "s5         0\n",
      "s6         0\n",
      "dtype: int64\n"
     ]
    }
   ],
   "source": [
    "print(x_train.isnull().sum())\n",
    "print(y_train.isnull().sum())\n",
    "print(x_test.isnull().sum())"
   ]
  },
  {
   "cell_type": "code",
   "execution_count": 10,
   "id": "81714116-db90-4494-8ded-a3a95a51ed4c",
   "metadata": {},
   "outputs": [],
   "source": [
    "# 변수처리 , cust_id 잠시 이석\n",
    "\n",
    "cust_id = x_test['cust_id'].copy()\n",
    "x_train = x_train.drop('cust_id', axis=1)\n",
    "x_test = x_test.drop('cust_id', axis=1)"
   ]
  },
  {
   "cell_type": "markdown",
   "id": "2537cb0b-083b-44be-a386-60c87709665f",
   "metadata": {},
   "source": [
    "# 데이터 분리"
   ]
  },
  {
   "cell_type": "code",
   "execution_count": 11,
   "id": "f88f5d2b-367a-44db-b320-866f9c2a73fe",
   "metadata": {},
   "outputs": [
    {
     "name": "stdout",
     "output_type": "stream",
     "text": [
      "(282, 10) (282,) (71, 10)\n"
     ]
    }
   ],
   "source": [
    "from sklearn.model_selection import train_test_split\n",
    "x_train, x_val, y_train, y_val = train_test_split(x_train, y_train['target'], \n",
    "                                                  test_size = 0.2, random_state=23)\n",
    "print(x_train.shape, y_train.shape,x_val.shape)"
   ]
  },
  {
   "cell_type": "markdown",
   "id": "e7de7ac6-d304-462a-b001-b449b126d911",
   "metadata": {},
   "source": [
    "# 모델 성능평가"
   ]
  },
  {
   "cell_type": "code",
   "execution_count": 12,
   "id": "280448e5-b7c3-4eae-9063-22dd30f35cc7",
   "metadata": {},
   "outputs": [
    {
     "data": {
      "text/html": [
       "<style>#sk-container-id-1 {color: black;}#sk-container-id-1 pre{padding: 0;}#sk-container-id-1 div.sk-toggleable {background-color: white;}#sk-container-id-1 label.sk-toggleable__label {cursor: pointer;display: block;width: 100%;margin-bottom: 0;padding: 0.3em;box-sizing: border-box;text-align: center;}#sk-container-id-1 label.sk-toggleable__label-arrow:before {content: \"▸\";float: left;margin-right: 0.25em;color: #696969;}#sk-container-id-1 label.sk-toggleable__label-arrow:hover:before {color: black;}#sk-container-id-1 div.sk-estimator:hover label.sk-toggleable__label-arrow:before {color: black;}#sk-container-id-1 div.sk-toggleable__content {max-height: 0;max-width: 0;overflow: hidden;text-align: left;background-color: #f0f8ff;}#sk-container-id-1 div.sk-toggleable__content pre {margin: 0.2em;color: black;border-radius: 0.25em;background-color: #f0f8ff;}#sk-container-id-1 input.sk-toggleable__control:checked~div.sk-toggleable__content {max-height: 200px;max-width: 100%;overflow: auto;}#sk-container-id-1 input.sk-toggleable__control:checked~label.sk-toggleable__label-arrow:before {content: \"▾\";}#sk-container-id-1 div.sk-estimator input.sk-toggleable__control:checked~label.sk-toggleable__label {background-color: #d4ebff;}#sk-container-id-1 div.sk-label input.sk-toggleable__control:checked~label.sk-toggleable__label {background-color: #d4ebff;}#sk-container-id-1 input.sk-hidden--visually {border: 0;clip: rect(1px 1px 1px 1px);clip: rect(1px, 1px, 1px, 1px);height: 1px;margin: -1px;overflow: hidden;padding: 0;position: absolute;width: 1px;}#sk-container-id-1 div.sk-estimator {font-family: monospace;background-color: #f0f8ff;border: 1px dotted black;border-radius: 0.25em;box-sizing: border-box;margin-bottom: 0.5em;}#sk-container-id-1 div.sk-estimator:hover {background-color: #d4ebff;}#sk-container-id-1 div.sk-parallel-item::after {content: \"\";width: 100%;border-bottom: 1px solid gray;flex-grow: 1;}#sk-container-id-1 div.sk-label:hover label.sk-toggleable__label {background-color: #d4ebff;}#sk-container-id-1 div.sk-serial::before {content: \"\";position: absolute;border-left: 1px solid gray;box-sizing: border-box;top: 0;bottom: 0;left: 50%;z-index: 0;}#sk-container-id-1 div.sk-serial {display: flex;flex-direction: column;align-items: center;background-color: white;padding-right: 0.2em;padding-left: 0.2em;position: relative;}#sk-container-id-1 div.sk-item {position: relative;z-index: 1;}#sk-container-id-1 div.sk-parallel {display: flex;align-items: stretch;justify-content: center;background-color: white;position: relative;}#sk-container-id-1 div.sk-item::before, #sk-container-id-1 div.sk-parallel-item::before {content: \"\";position: absolute;border-left: 1px solid gray;box-sizing: border-box;top: 0;bottom: 0;left: 50%;z-index: -1;}#sk-container-id-1 div.sk-parallel-item {display: flex;flex-direction: column;z-index: 1;position: relative;background-color: white;}#sk-container-id-1 div.sk-parallel-item:first-child::after {align-self: flex-end;width: 50%;}#sk-container-id-1 div.sk-parallel-item:last-child::after {align-self: flex-start;width: 50%;}#sk-container-id-1 div.sk-parallel-item:only-child::after {width: 0;}#sk-container-id-1 div.sk-dashed-wrapped {border: 1px dashed gray;margin: 0 0.4em 0.5em 0.4em;box-sizing: border-box;padding-bottom: 0.4em;background-color: white;}#sk-container-id-1 div.sk-label label {font-family: monospace;font-weight: bold;display: inline-block;line-height: 1.2em;}#sk-container-id-1 div.sk-label-container {text-align: center;}#sk-container-id-1 div.sk-container {/* jupyter's `normalize.less` sets `[hidden] { display: none; }` but bootstrap.min.css set `[hidden] { display: none !important; }` so we also need the `!important` here to be able to override the default hidden behavior on the sphinx rendered scikit-learn.org. See: https://github.com/scikit-learn/scikit-learn/issues/21755 */display: inline-block !important;position: relative;}#sk-container-id-1 div.sk-text-repr-fallback {display: none;}</style><div id=\"sk-container-id-1\" class=\"sk-top-container\"><div class=\"sk-text-repr-fallback\"><pre>RandomForestRegressor(random_state=23)</pre><b>In a Jupyter environment, please rerun this cell to show the HTML representation or trust the notebook. <br />On GitHub, the HTML representation is unable to render, please try loading this page with nbviewer.org.</b></div><div class=\"sk-container\" hidden><div class=\"sk-item\"><div class=\"sk-estimator sk-toggleable\"><input class=\"sk-toggleable__control sk-hidden--visually\" id=\"sk-estimator-id-1\" type=\"checkbox\" checked><label for=\"sk-estimator-id-1\" class=\"sk-toggleable__label sk-toggleable__label-arrow\">RandomForestRegressor</label><div class=\"sk-toggleable__content\"><pre>RandomForestRegressor(random_state=23)</pre></div></div></div></div></div>"
      ],
      "text/plain": [
       "RandomForestRegressor(random_state=23)"
      ]
     },
     "execution_count": 12,
     "metadata": {},
     "output_type": "execute_result"
    }
   ],
   "source": [
    "import sklearn.ensemble\n",
    "from sklearn.ensemble import RandomForestRegressor\n",
    "\n",
    "model = RandomForestRegressor(random_state=23)\n",
    "# 모델은 뭘 핏해야할까? 뭘 학습해야할까? = > 당연히 _train 데이터지!\n",
    "model.fit(x_train, y_train)"
   ]
  },
  {
   "cell_type": "code",
   "execution_count": 13,
   "id": "849d5ed8-ae11-41e4-81b3-74ada144efdc",
   "metadata": {},
   "outputs": [],
   "source": [
    "# 모델을 사용하여 테스트 데이터 예측 ?\n",
    "# !!!학습된 모델을!!! 이용하여 x_val 평가용 지표를 넣어서 y값을 예측해봄\n",
    "y_pred = model.predict(x_val)"
   ]
  },
  {
   "cell_type": "code",
   "execution_count": 14,
   "id": "85c9f774-101a-4a32-8c90-dca50a861673",
   "metadata": {},
   "outputs": [
    {
     "name": "stdout",
     "output_type": "stream",
     "text": [
      "3244.050728169014\n",
      "56.95656878858674\n",
      "0.37647234831662024\n"
     ]
    }
   ],
   "source": [
    "# 평가 (정확도 , F1 score, AUC-ROC=이진분류에서만!, recall_score) \n",
    "from sklearn.metrics import mean_squared_error, r2_score\n",
    "mse = mean_squared_error(y_val, y_pred)   # 배치(실제값/예측값)\n",
    "r2 = r2_score(y_val, y_pred)\n",
    "print(mse)\n",
    "print(mse**0.5)\n",
    "print(r2)"
   ]
  },
  {
   "cell_type": "markdown",
   "id": "2c0a240a-0014-4cbc-b84b-38d0134ccbea",
   "metadata": {},
   "source": [
    "# 모델 예측값 제출"
   ]
  },
  {
   "cell_type": "code",
   "execution_count": 15,
   "id": "70202a15-aa0b-41ea-bd81-ede9ad7595c5",
   "metadata": {},
   "outputs": [],
   "source": [
    "# 그냥 분류 자체를 실시할 경우 = > 정수"
   ]
  },
  {
   "cell_type": "code",
   "execution_count": 16,
   "id": "d10442ed-ed71-4583-96c3-01253cae73ea",
   "metadata": {},
   "outputs": [
    {
     "name": "stdout",
     "output_type": "stream",
     "text": [
      "<class 'pandas.core.frame.DataFrame'>\n",
      "RangeIndex: 89 entries, 0 to 88\n",
      "Data columns (total 10 columns):\n",
      " #   Column  Non-Null Count  Dtype  \n",
      "---  ------  --------------  -----  \n",
      " 0   age     89 non-null     float64\n",
      " 1   sex     89 non-null     float64\n",
      " 2   bmi     89 non-null     float64\n",
      " 3   bp      89 non-null     float64\n",
      " 4   s1      89 non-null     float64\n",
      " 5   s2      89 non-null     float64\n",
      " 6   s3      89 non-null     float64\n",
      " 7   s4      89 non-null     float64\n",
      " 8   s5      89 non-null     float64\n",
      " 9   s6      89 non-null     float64\n",
      "dtypes: float64(10)\n",
      "memory usage: 7.1 KB\n"
     ]
    }
   ],
   "source": [
    "x_test.info()"
   ]
  },
  {
   "cell_type": "code",
   "execution_count": 22,
   "id": "f8a5bf6b-542c-4966-9305-0a941fc34d7e",
   "metadata": {},
   "outputs": [
    {
     "name": "stdout",
     "output_type": "stream",
     "text": [
      "   cust_id  target\n",
      "0      114  267.43\n",
      "1      261  114.44\n",
      "2      193  177.23\n",
      "3      110   92.58\n",
      "4      357  208.17\n"
     ]
    }
   ],
   "source": [
    "y_result = model.predict(x_test)\n",
    "y_result = pd.DataFrame({'cust_id' : cust_id, 'target' : y_result})\n",
    "print(y_result[:5])"
   ]
  },
  {
   "cell_type": "code",
   "execution_count": 25,
   "id": "feb30df9-1156-41fa-99d7-384011f157d8",
   "metadata": {},
   "outputs": [],
   "source": [
    "y_result.to_csv('00700.csv', index =False)"
   ]
  },
  {
   "cell_type": "code",
   "execution_count": 26,
   "id": "3f419acf-43d8-48c4-bb53-356513afd444",
   "metadata": {},
   "outputs": [
    {
     "data": {
      "text/html": [
       "<div>\n",
       "<style scoped>\n",
       "    .dataframe tbody tr th:only-of-type {\n",
       "        vertical-align: middle;\n",
       "    }\n",
       "\n",
       "    .dataframe tbody tr th {\n",
       "        vertical-align: top;\n",
       "    }\n",
       "\n",
       "    .dataframe thead th {\n",
       "        text-align: right;\n",
       "    }\n",
       "</style>\n",
       "<table border=\"1\" class=\"dataframe\">\n",
       "  <thead>\n",
       "    <tr style=\"text-align: right;\">\n",
       "      <th></th>\n",
       "      <th>cust_id</th>\n",
       "      <th>target</th>\n",
       "    </tr>\n",
       "  </thead>\n",
       "  <tbody>\n",
       "    <tr>\n",
       "      <th>0</th>\n",
       "      <td>114</td>\n",
       "      <td>267.43</td>\n",
       "    </tr>\n",
       "    <tr>\n",
       "      <th>1</th>\n",
       "      <td>261</td>\n",
       "      <td>114.44</td>\n",
       "    </tr>\n",
       "    <tr>\n",
       "      <th>2</th>\n",
       "      <td>193</td>\n",
       "      <td>177.23</td>\n",
       "    </tr>\n",
       "    <tr>\n",
       "      <th>3</th>\n",
       "      <td>110</td>\n",
       "      <td>92.58</td>\n",
       "    </tr>\n",
       "    <tr>\n",
       "      <th>4</th>\n",
       "      <td>357</td>\n",
       "      <td>208.17</td>\n",
       "    </tr>\n",
       "  </tbody>\n",
       "</table>\n",
       "</div>"
      ],
      "text/plain": [
       "   cust_id  target\n",
       "0      114  267.43\n",
       "1      261  114.44\n",
       "2      193  177.23\n",
       "3      110   92.58\n",
       "4      357  208.17"
      ]
     },
     "execution_count": 26,
     "metadata": {},
     "output_type": "execute_result"
    }
   ],
   "source": [
    "k=pd.read_csv('00700.csv')\n",
    "k.head()"
   ]
  },
  {
   "cell_type": "code",
   "execution_count": null,
   "id": "48f7734e-02e9-4938-a2ee-0d8840c63ef5",
   "metadata": {},
   "outputs": [],
   "source": []
  }
 ],
 "metadata": {
  "kernelspec": {
   "display_name": "Python 3 (ipykernel)",
   "language": "python",
   "name": "python3"
  },
  "language_info": {
   "codemirror_mode": {
    "name": "ipython",
    "version": 3
   },
   "file_extension": ".py",
   "mimetype": "text/x-python",
   "name": "python",
   "nbconvert_exporter": "python",
   "pygments_lexer": "ipython3",
   "version": "3.9.13"
  }
 },
 "nbformat": 4,
 "nbformat_minor": 5
}
